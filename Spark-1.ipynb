{
  "nbformat": 4,
  "nbformat_minor": 0,
  "metadata": {
    "colab": {
      "provenance": []
    },
    "kernelspec": {
      "name": "python3",
      "display_name": "Python 3"
    },
    "language_info": {
      "name": "python"
    }
  },
  "cells": [
    {
      "cell_type": "code",
      "source": [
        "pip install pyspark"
      ],
      "metadata": {
        "colab": {
          "base_uri": "https://localhost:8080/"
        },
        "id": "_PiYIY5lBY-s",
        "outputId": "76440057-54bf-4d89-9cfb-c088c1d2d699"
      },
      "execution_count": 2,
      "outputs": [
        {
          "output_type": "stream",
          "name": "stdout",
          "text": [
            "Collecting pyspark\n",
            "  Downloading pyspark-3.5.0.tar.gz (316.9 MB)\n",
            "\u001b[2K     \u001b[90m━━━━━━━━━━━━━━━━━━━━━━━━━━━━━━━━━━━━━━━━\u001b[0m \u001b[32m316.9/316.9 MB\u001b[0m \u001b[31m1.3 MB/s\u001b[0m eta \u001b[36m0:00:00\u001b[0m\n",
            "\u001b[?25h  Preparing metadata (setup.py) ... \u001b[?25l\u001b[?25hdone\n",
            "Requirement already satisfied: py4j==0.10.9.7 in /usr/local/lib/python3.10/dist-packages (from pyspark) (0.10.9.7)\n",
            "Building wheels for collected packages: pyspark\n",
            "  Building wheel for pyspark (setup.py) ... \u001b[?25l\u001b[?25hdone\n",
            "  Created wheel for pyspark: filename=pyspark-3.5.0-py2.py3-none-any.whl size=317425345 sha256=14f7eb632e960e79170a3d27660822d1dfb9f7effd205379bb98b90035867d3d\n",
            "  Stored in directory: /root/.cache/pip/wheels/41/4e/10/c2cf2467f71c678cfc8a6b9ac9241e5e44a01940da8fbb17fc\n",
            "Successfully built pyspark\n",
            "Installing collected packages: pyspark\n",
            "Successfully installed pyspark-3.5.0\n"
          ]
        }
      ]
    },
    {
      "cell_type": "code",
      "execution_count": 3,
      "metadata": {
        "id": "tJorjBf9A4oI"
      },
      "outputs": [],
      "source": [
        "from pyspark.sql import SparkSession\n",
        "from pyspark.ml.feature import Tokenizer, HashingTF, IDF, StringIndexer\n",
        "from pyspark.ml import Pipeline\n",
        "from pyspark.ml.classification import LogisticRegression\n",
        "from pyspark.ml.evaluation import MulticlassClassificationEvaluator\n",
        "import time"
      ]
    },
    {
      "cell_type": "code",
      "source": [
        "# Create a Spark session\n",
        "spark = SparkSession.builder.appName(\"SentimentAnalysis\").getOrCreate()"
      ],
      "metadata": {
        "id": "39m_pKHSCHjh"
      },
      "execution_count": 4,
      "outputs": []
    },
    {
      "cell_type": "code",
      "source": [
        "from google.colab import files\n",
        "\n",
        "# Upload the CSV file\n",
        "uploaded = files.upload()"
      ],
      "metadata": {
        "colab": {
          "base_uri": "https://localhost:8080/",
          "height": 73
        },
        "id": "xtDN9oc7CJNC",
        "outputId": "1ec473ec-95ef-4fa3-9c51-145d01a008be"
      },
      "execution_count": 104,
      "outputs": [
        {
          "output_type": "display_data",
          "data": {
            "text/plain": [
              "<IPython.core.display.HTML object>"
            ],
            "text/html": [
              "\n",
              "     <input type=\"file\" id=\"files-42bef8ed-2798-4479-a3a0-b9f7acc4b267\" name=\"files[]\" multiple disabled\n",
              "        style=\"border:none\" />\n",
              "     <output id=\"result-42bef8ed-2798-4479-a3a0-b9f7acc4b267\">\n",
              "      Upload widget is only available when the cell has been executed in the\n",
              "      current browser session. Please rerun this cell to enable.\n",
              "      </output>\n",
              "      <script>// Copyright 2017 Google LLC\n",
              "//\n",
              "// Licensed under the Apache License, Version 2.0 (the \"License\");\n",
              "// you may not use this file except in compliance with the License.\n",
              "// You may obtain a copy of the License at\n",
              "//\n",
              "//      http://www.apache.org/licenses/LICENSE-2.0\n",
              "//\n",
              "// Unless required by applicable law or agreed to in writing, software\n",
              "// distributed under the License is distributed on an \"AS IS\" BASIS,\n",
              "// WITHOUT WARRANTIES OR CONDITIONS OF ANY KIND, either express or implied.\n",
              "// See the License for the specific language governing permissions and\n",
              "// limitations under the License.\n",
              "\n",
              "/**\n",
              " * @fileoverview Helpers for google.colab Python module.\n",
              " */\n",
              "(function(scope) {\n",
              "function span(text, styleAttributes = {}) {\n",
              "  const element = document.createElement('span');\n",
              "  element.textContent = text;\n",
              "  for (const key of Object.keys(styleAttributes)) {\n",
              "    element.style[key] = styleAttributes[key];\n",
              "  }\n",
              "  return element;\n",
              "}\n",
              "\n",
              "// Max number of bytes which will be uploaded at a time.\n",
              "const MAX_PAYLOAD_SIZE = 100 * 1024;\n",
              "\n",
              "function _uploadFiles(inputId, outputId) {\n",
              "  const steps = uploadFilesStep(inputId, outputId);\n",
              "  const outputElement = document.getElementById(outputId);\n",
              "  // Cache steps on the outputElement to make it available for the next call\n",
              "  // to uploadFilesContinue from Python.\n",
              "  outputElement.steps = steps;\n",
              "\n",
              "  return _uploadFilesContinue(outputId);\n",
              "}\n",
              "\n",
              "// This is roughly an async generator (not supported in the browser yet),\n",
              "// where there are multiple asynchronous steps and the Python side is going\n",
              "// to poll for completion of each step.\n",
              "// This uses a Promise to block the python side on completion of each step,\n",
              "// then passes the result of the previous step as the input to the next step.\n",
              "function _uploadFilesContinue(outputId) {\n",
              "  const outputElement = document.getElementById(outputId);\n",
              "  const steps = outputElement.steps;\n",
              "\n",
              "  const next = steps.next(outputElement.lastPromiseValue);\n",
              "  return Promise.resolve(next.value.promise).then((value) => {\n",
              "    // Cache the last promise value to make it available to the next\n",
              "    // step of the generator.\n",
              "    outputElement.lastPromiseValue = value;\n",
              "    return next.value.response;\n",
              "  });\n",
              "}\n",
              "\n",
              "/**\n",
              " * Generator function which is called between each async step of the upload\n",
              " * process.\n",
              " * @param {string} inputId Element ID of the input file picker element.\n",
              " * @param {string} outputId Element ID of the output display.\n",
              " * @return {!Iterable<!Object>} Iterable of next steps.\n",
              " */\n",
              "function* uploadFilesStep(inputId, outputId) {\n",
              "  const inputElement = document.getElementById(inputId);\n",
              "  inputElement.disabled = false;\n",
              "\n",
              "  const outputElement = document.getElementById(outputId);\n",
              "  outputElement.innerHTML = '';\n",
              "\n",
              "  const pickedPromise = new Promise((resolve) => {\n",
              "    inputElement.addEventListener('change', (e) => {\n",
              "      resolve(e.target.files);\n",
              "    });\n",
              "  });\n",
              "\n",
              "  const cancel = document.createElement('button');\n",
              "  inputElement.parentElement.appendChild(cancel);\n",
              "  cancel.textContent = 'Cancel upload';\n",
              "  const cancelPromise = new Promise((resolve) => {\n",
              "    cancel.onclick = () => {\n",
              "      resolve(null);\n",
              "    };\n",
              "  });\n",
              "\n",
              "  // Wait for the user to pick the files.\n",
              "  const files = yield {\n",
              "    promise: Promise.race([pickedPromise, cancelPromise]),\n",
              "    response: {\n",
              "      action: 'starting',\n",
              "    }\n",
              "  };\n",
              "\n",
              "  cancel.remove();\n",
              "\n",
              "  // Disable the input element since further picks are not allowed.\n",
              "  inputElement.disabled = true;\n",
              "\n",
              "  if (!files) {\n",
              "    return {\n",
              "      response: {\n",
              "        action: 'complete',\n",
              "      }\n",
              "    };\n",
              "  }\n",
              "\n",
              "  for (const file of files) {\n",
              "    const li = document.createElement('li');\n",
              "    li.append(span(file.name, {fontWeight: 'bold'}));\n",
              "    li.append(span(\n",
              "        `(${file.type || 'n/a'}) - ${file.size} bytes, ` +\n",
              "        `last modified: ${\n",
              "            file.lastModifiedDate ? file.lastModifiedDate.toLocaleDateString() :\n",
              "                                    'n/a'} - `));\n",
              "    const percent = span('0% done');\n",
              "    li.appendChild(percent);\n",
              "\n",
              "    outputElement.appendChild(li);\n",
              "\n",
              "    const fileDataPromise = new Promise((resolve) => {\n",
              "      const reader = new FileReader();\n",
              "      reader.onload = (e) => {\n",
              "        resolve(e.target.result);\n",
              "      };\n",
              "      reader.readAsArrayBuffer(file);\n",
              "    });\n",
              "    // Wait for the data to be ready.\n",
              "    let fileData = yield {\n",
              "      promise: fileDataPromise,\n",
              "      response: {\n",
              "        action: 'continue',\n",
              "      }\n",
              "    };\n",
              "\n",
              "    // Use a chunked sending to avoid message size limits. See b/62115660.\n",
              "    let position = 0;\n",
              "    do {\n",
              "      const length = Math.min(fileData.byteLength - position, MAX_PAYLOAD_SIZE);\n",
              "      const chunk = new Uint8Array(fileData, position, length);\n",
              "      position += length;\n",
              "\n",
              "      const base64 = btoa(String.fromCharCode.apply(null, chunk));\n",
              "      yield {\n",
              "        response: {\n",
              "          action: 'append',\n",
              "          file: file.name,\n",
              "          data: base64,\n",
              "        },\n",
              "      };\n",
              "\n",
              "      let percentDone = fileData.byteLength === 0 ?\n",
              "          100 :\n",
              "          Math.round((position / fileData.byteLength) * 100);\n",
              "      percent.textContent = `${percentDone}% done`;\n",
              "\n",
              "    } while (position < fileData.byteLength);\n",
              "  }\n",
              "\n",
              "  // All done.\n",
              "  yield {\n",
              "    response: {\n",
              "      action: 'complete',\n",
              "    }\n",
              "  };\n",
              "}\n",
              "\n",
              "scope.google = scope.google || {};\n",
              "scope.google.colab = scope.google.colab || {};\n",
              "scope.google.colab._files = {\n",
              "  _uploadFiles,\n",
              "  _uploadFilesContinue,\n",
              "};\n",
              "})(self);\n",
              "</script> "
            ]
          },
          "metadata": {}
        },
        {
          "output_type": "stream",
          "name": "stdout",
          "text": [
            "Saving 6kdata.csv to 6kdata.csv\n"
          ]
        }
      ]
    },
    {
      "cell_type": "code",
      "source": [
        "# Load the CSV file into a Spark DataFrame\n",
        "start_time = time.time()\n",
        "df = spark.read.option(\"header\", \"true\").csv(\"6kdata.csv\")"
      ],
      "metadata": {
        "id": "Q6sStWakCONs"
      },
      "execution_count": 107,
      "outputs": []
    },
    {
      "cell_type": "code",
      "source": [
        "# Assuming 'df' is your PySpark DataFrame\n",
        "num_data_points = df.count()\n",
        "\n",
        "print(f\"Number of data points: {num_data_points}\")"
      ],
      "metadata": {
        "colab": {
          "base_uri": "https://localhost:8080/"
        },
        "id": "TsTjNiOKMahR",
        "outputId": "c6c95366-68c3-40d9-b41e-76ee5b6eb554"
      },
      "execution_count": 108,
      "outputs": [
        {
          "output_type": "stream",
          "name": "stdout",
          "text": [
            "Number of data points: 5999\n"
          ]
        }
      ]
    },
    {
      "cell_type": "code",
      "source": [
        "# Filter the 'Sentiment' column values to only include 'Neutral', 'Negative', 'Positive'\n",
        "allowed_sentiments = ['Neutral', 'Negative', 'Positive']\n",
        "df = df.filter(df[\"Sentiment\"].isin(allowed_sentiments))"
      ],
      "metadata": {
        "id": "RwNHYi6ICzZ9"
      },
      "execution_count": 109,
      "outputs": []
    },
    {
      "cell_type": "code",
      "source": [
        "# Tokenization\n",
        "tokenizer = Tokenizer(inputCol=\"Review\", outputCol=\"words\")\n",
        "words_data = tokenizer.transform(df)"
      ],
      "metadata": {
        "id": "w7neHsbIC1ZX"
      },
      "execution_count": 110,
      "outputs": []
    },
    {
      "cell_type": "code",
      "source": [
        "# TF\n",
        "hashing_tf = HashingTF(inputCol=\"words\", outputCol=\"rawFeatures\")\n",
        "featurized_data = hashing_tf.transform(words_data)"
      ],
      "metadata": {
        "id": "1BivAW9EC14B"
      },
      "execution_count": 111,
      "outputs": []
    },
    {
      "cell_type": "code",
      "source": [
        "# IDF\n",
        "idf = IDF(inputCol=\"rawFeatures\", outputCol=\"features\")\n",
        "idf_model = idf.fit(featurized_data)\n",
        "rescaled_data = idf_model.transform(featurized_data)"
      ],
      "metadata": {
        "id": "WjMmnXOTC-Xs"
      },
      "execution_count": 112,
      "outputs": []
    },
    {
      "cell_type": "code",
      "source": [
        "# Convert string labels into numerical indices\n",
        "indexer = StringIndexer(inputCol=\"Sentiment\", outputCol=\"label\")\n",
        "indexed_data = indexer.fit(rescaled_data).transform(rescaled_data)"
      ],
      "metadata": {
        "id": "LAa_Jy3nDHF7"
      },
      "execution_count": 113,
      "outputs": []
    },
    {
      "cell_type": "code",
      "source": [
        "# Split the data into training and test sets\n",
        "(train_data, test_data) = indexed_data.randomSplit([0.8, 0.2], seed=123)"
      ],
      "metadata": {
        "id": "exAM1SbvDPVG"
      },
      "execution_count": 114,
      "outputs": []
    },
    {
      "cell_type": "code",
      "source": [
        "# Logistic Regression model\n",
        "lr = LogisticRegression(featuresCol=\"features\", labelCol=\"label\", maxIter=10)\n",
        "# Pipeline\n",
        "pipeline = Pipeline(stages=[lr])"
      ],
      "metadata": {
        "id": "0QsTUKKZDT53"
      },
      "execution_count": 115,
      "outputs": []
    },
    {
      "cell_type": "code",
      "source": [
        "# Train the model\n",
        "start_training_time = time.time()\n",
        "model = pipeline.fit(train_data)\n",
        "end_training_time = time.time()"
      ],
      "metadata": {
        "id": "C_vPg5PVDba2"
      },
      "execution_count": 116,
      "outputs": []
    },
    {
      "cell_type": "code",
      "source": [
        "# Make predictions on the test set\n",
        "start_prediction_time = time.time()\n",
        "predictions = model.transform(test_data)\n",
        "end_prediction_time = time.time()\n",
        "# Show the predictions\n",
        "predictions.select(\"Review\", \"Sentiment\", \"prediction\").show(truncate=False)"
      ],
      "metadata": {
        "colab": {
          "base_uri": "https://localhost:8080/"
        },
        "id": "RnHfCR_cDenf",
        "outputId": "6f62f936-a520-4221-b540-96991395b3c8"
      },
      "execution_count": 117,
      "outputs": [
        {
          "output_type": "stream",
          "name": "stdout",
          "text": [
            "+----------------------------------------------------------------------------------------------------------------------------------------------------------------------------------------------------------------------------------------------------------------------------+---------+----------+\n",
            "|Review                                                                                                                                                                                                                                                                      |Sentiment|prediction|\n",
            "+----------------------------------------------------------------------------------------------------------------------------------------------------------------------------------------------------------------------------------------------------------------------------+---------+----------+\n",
            "|A giant wet mess , far less appealing in person .                                                                                                                                                                                                                           |Negative |1.0       |\n",
            "|A place on the planet that is always full of .. one can find street food nearby to have a taste of new york There is a famous chain of here                                                                                                                                 |Neutral  |2.0       |\n",
            "|Bridge is stunning but very overcrowded with people @ 4pm , best go first thing in the morning . Plenty of at the beginning of the bridge side with cheap …                                                                                                                 |Positive |0.0       |\n",
            "|Do walk it starting from and going towards , it the best view of the . It was fine , so do put it on your list of to-do , but in my opinion , the …                                                                                                                         |Positive |0.0       |\n",
            "|Need lot of cleaning                                                                                                                                                                                                                                                        |Neutral  |2.0       |\n",
            "|Stay away . Too many people . The day after we got caught in the crowd here , a guy wounded two before getting shot in the arm by an officer .                                                                                                                              |Neutral  |2.0       |\n",
            "|Too crowded                                                                                                                                                                                                                                                                 |Neutral  |2.0       |\n",
            "|Too crowded                                                                                                                                                                                                                                                                 |Neutral  |2.0       |\n",
            "|Too many ! Commercialism at .                                                                                                                                                                                                                                               |Neutral  |2.0       |\n",
            "|Too much crowded                                                                                                                                                                                                                                                            |Neutral  |2.0       |\n",
            "|Very and would not recommend to go if visiting New York . I would see Central Park instead                                                                                                                                                                                  |Negative |1.0       |\n",
            "|good place to visit once . you can barely walk through this bridge with the amount of going there everyday so i avoid this bridge when possible .                                                                                                                           |Neutral  |1.0       |\n",
            "|too many street                                                                                                                                                                                                                                                             |Neutral  |2.0       |\n",
            "|Much people                                                                                                                                                                                                                                                                 |Neutral  |2.0       |\n",
            "|This is definitely the hearth and would of the city ! If you are in New York , you have to go to Times Square , no about it 😍 This is the place that one of the world most famous advertising …                                                                            |Positive |0.0       |\n",
            "|Why do people go here 12/1/2022 : someone threw up all over me the last time i was here                                                                                                                                                                                     |Neutral  |2.0       |\n",
            "|This is a very good place to be walking around on night time you can buy some of and take with different                                                                                                                                                                    |Positive |0.0       |\n",
            "|Times Square is the and the mist famous square in the world ! For a reason ! Must visit this center of neon excitement and inspiring atmosphere !                                                                                                                           |Positive |0.0       |\n",
            "|. Thank you for what your do . Naked cowboy is the best !                                                                                                                                                                                                                   |Positive |0.0       |\n",
            "|A great place to visit when you are in & shopping is great a little of everything on times Square & of entertaining some of it for no reason like the people & so & ... but other then that very fun place to visit . Be prepared to find parking expensive & hard to find .|Positive |0.0       |\n",
            "+----------------------------------------------------------------------------------------------------------------------------------------------------------------------------------------------------------------------------------------------------------------------------+---------+----------+\n",
            "only showing top 20 rows\n",
            "\n"
          ]
        }
      ]
    },
    {
      "cell_type": "code",
      "source": [
        "print(f\"Total time for loading and preprocessing: {end_training_time - start_time} seconds\")\n",
        "print(f\"Total time for training the model: {end_training_time - start_training_time} seconds\")\n",
        "print(f\"Total time for making predictions: {end_prediction_time - start_prediction_time} seconds\")\n"
      ],
      "metadata": {
        "colab": {
          "base_uri": "https://localhost:8080/"
        },
        "id": "u0WEvXQ-BXjH",
        "outputId": "0b71a973-29a8-4770-afb0-5923a93aee18"
      },
      "execution_count": 118,
      "outputs": [
        {
          "output_type": "stream",
          "name": "stdout",
          "text": [
            "Total time for loading and preprocessing: 60.539050340652466 seconds\n",
            "Total time for training the model: 8.831965923309326 seconds\n",
            "Total time for making predictions: 0.05376458168029785 seconds\n"
          ]
        }
      ]
    },
    {
      "cell_type": "code",
      "source": [
        "from pyspark.ml.evaluation import MulticlassClassificationEvaluator\n",
        "\n",
        "# Evaluate accuracy\n",
        "evaluator_accuracy = MulticlassClassificationEvaluator(\n",
        "    labelCol=\"label\", predictionCol=\"prediction\", metricName=\"accuracy\"\n",
        ")\n",
        "accuracy = evaluator_accuracy.evaluate(predictions)\n",
        "\n",
        "# Evaluate precision\n",
        "evaluator_precision = MulticlassClassificationEvaluator(\n",
        "    labelCol=\"label\", predictionCol=\"prediction\", metricName=\"weightedPrecision\"\n",
        ")\n",
        "precision = evaluator_precision.evaluate(predictions)\n",
        "\n",
        "# Evaluate recall\n",
        "evaluator_recall = MulticlassClassificationEvaluator(\n",
        "    labelCol=\"label\", predictionCol=\"prediction\", metricName=\"weightedRecall\"\n",
        ")\n",
        "recall = evaluator_recall.evaluate(predictions)\n",
        "\n",
        "# Evaluate F1 score\n",
        "evaluator_f1 = MulticlassClassificationEvaluator(\n",
        "    labelCol=\"label\", predictionCol=\"prediction\", metricName=\"f1\"\n",
        ")\n",
        "f1_score = evaluator_f1.evaluate(predictions)\n",
        "\n",
        "# Print the evaluation metrics\n",
        "print(f\"Accuracy: {accuracy * 100:.2f}%\")\n",
        "print(f\"Precision: {precision * 100:.2f}%\")\n",
        "print(f\"Recall: {recall * 100:.2f}%\")\n",
        "print(f\"F1 Score: {f1_score * 100:.2f}%\")\n"
      ],
      "metadata": {
        "colab": {
          "base_uri": "https://localhost:8080/"
        },
        "id": "T3yZR0DED_vB",
        "outputId": "b9360e7c-e01d-4253-f9a9-d5c1da6f1d3d"
      },
      "execution_count": 119,
      "outputs": [
        {
          "output_type": "stream",
          "name": "stdout",
          "text": [
            "Accuracy: 94.86%\n",
            "Precision: 94.98%\n",
            "Recall: 94.86%\n",
            "F1 Score: 94.89%\n"
          ]
        }
      ]
    },
    {
      "cell_type": "code",
      "source": [
        "from pyspark.mllib.evaluation import MulticlassMetrics\n",
        "\n",
        "# Convert the DataFrame to an RDD for using MulticlassMetrics\n",
        "predictionAndLabels = predictions.select(\"prediction\", \"label\").rdd\n",
        "\n",
        "# Create a MulticlassMetrics object\n",
        "metrics = MulticlassMetrics(predictionAndLabels)\n",
        "\n",
        "# Confusion matrix\n",
        "confusion_matrix = metrics.confusionMatrix()\n"
      ],
      "metadata": {
        "id": "8QtlyLHiFhRY"
      },
      "execution_count": 120,
      "outputs": []
    },
    {
      "cell_type": "code",
      "source": [
        "print(\"Confusion Matrix:\")\n",
        "print(confusion_matrix)"
      ],
      "metadata": {
        "colab": {
          "base_uri": "https://localhost:8080/"
        },
        "id": "s2xrcsGaF7V3",
        "outputId": "4125083a-aa7e-457e-c189-1484277e93e1"
      },
      "execution_count": 122,
      "outputs": [
        {
          "output_type": "stream",
          "name": "stdout",
          "text": [
            "Confusion Matrix:\n",
            "[[433.  11.  10.]\n",
            " [  5. 204.  10.]\n",
            " [  4.   4. 175.]]\n"
          ]
        }
      ]
    },
    {
      "cell_type": "code",
      "source": [
        "import matplotlib.pyplot as plt\n",
        "import seaborn as sns\n",
        "from pyspark.mllib.evaluation import MulticlassMetrics\n",
        "\n",
        "# ... (your existing code for model training and prediction)\n",
        "\n",
        "# Convert the DataFrame to an RDD for using MulticlassMetrics\n",
        "predictionAndLabels = predictions.select(\"prediction\", \"label\").rdd\n",
        "\n",
        "# Create a MulticlassMetrics object\n",
        "metrics = MulticlassMetrics(predictionAndLabels)\n",
        "\n",
        "# Confusion matrix\n",
        "confusion_matrix = metrics.confusionMatrix().toArray()\n",
        "\n",
        "# Define class labels\n",
        "class_labels = [\"Negative\", \"Positive\", \"Neutral\"]  # Replace with your actual class labels\n",
        "\n",
        "# Plot the confusion matrix as a heatmap using Seaborn\n",
        "plt.figure(figsize=(8, 6))\n",
        "sns.heatmap(confusion_matrix, annot=True, fmt='g', cmap='Blues', xticklabels=class_labels , yticklabels=class_labels)\n",
        "plt.title('Confusion Matrix')\n",
        "plt.xlabel('Predicted Label')\n",
        "plt.ylabel('True Label')\n",
        "plt.show()\n"
      ],
      "metadata": {
        "colab": {
          "base_uri": "https://localhost:8080/",
          "height": 564
        },
        "id": "cVzt7vvBIBj7",
        "outputId": "19416b43-96c6-475b-c02a-7fc72f3f4a80"
      },
      "execution_count": 121,
      "outputs": [
        {
          "output_type": "display_data",
          "data": {
            "text/plain": [
              "<Figure size 800x600 with 2 Axes>"
            ],
            "image/png": "[encoded data removed]"
          },
          "metadata": {}
        }
      ]
    }
  ]
}